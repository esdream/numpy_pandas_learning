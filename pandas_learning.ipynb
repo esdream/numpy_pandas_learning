{
 "cells": [
  {
   "cell_type": "markdown",
   "metadata": {},
   "source": [
    "## pandas\n",
    "---"
   ]
  },
  {
   "cell_type": "code",
   "execution_count": 1,
   "metadata": {
    "collapsed": true
   },
   "outputs": [],
   "source": [
    "import pandas as pd\n",
    "import numpy as np"
   ]
  },
  {
   "cell_type": "markdown",
   "metadata": {},
   "source": [
    "### 基本介绍\n",
    "---\n",
    "+ `pd.DataFrame`格式：\n",
    "    ```python\n",
    "    pd.DataFrame(data, index, columns, dtype=None, copy=None)\n",
    "    ```\n",
    "    其中如果data传入的是`dict`，则`dict`中的key为columns,value为data（一般都是numpy ndarray格式，此时不需要指定index）；如果`dict`中的value格式为常量，则需要指定index\n",
    "+ pandas的会自动为每个元素添加序号\n",
    "+ `pd.Series`相当于numpy中的一维向量，`pd.DataFrame`相当于二维表\n",
    "+ 默认情况下pandas添加序列的方式是从0开始递增添加。序列可以自己设置\n",
    "+ `df.dtypes`可以按`column`打印数据类型\n",
    "+ '`df.index`可以输出`index`名称\n",
    "+ `df.columns`可以输出`columns`名称\n",
    "+ `df.values`可以输出所有值\n",
    "+ `df.describe()`输出一些基本的数学运算结果（如min, mean, count等）\n",
    "+ `df.T`：转置DataFrame\n",
    "+ `df.sort_index(axis=0, ascending=True)`可以按DataFrame的行标题或列标题进行排序，通过axis设置（axis=0按行标题排序，axis=1按列标题排序），ascending设置排序方式，True表示正序，False表示倒序\n",
    "+ `df.sort_values(by=columns_name, ascending=True)`按值排序，by设置根据哪一列数据进行排序"
   ]
  },
  {
   "cell_type": "code",
   "execution_count": 19,
   "metadata": {
    "scrolled": true
   },
   "outputs": [
    {
     "name": "stdout",
     "output_type": "stream",
     "text": [
      "0     1.0\n",
      "1     3.0\n",
      "2     6.0\n",
      "3     NaN\n",
      "4    45.0\n",
      "5     1.0\n",
      "dtype: float64\n",
      "DatetimeIndex(['2016-01-01', '2016-01-02', '2016-01-03', '2016-01-04',\n",
      "               '2016-01-05', '2016-01-06'],\n",
      "              dtype='datetime64[ns]', freq='D')\n",
      "   0  1   2   3\n",
      "0  0  1   2   3\n",
      "1  4  5   6   7\n",
      "2  8  9  10  11\n",
      "                   a         b         c         d\n",
      "2016-01-01  0.394209  0.731865  0.107845  0.991531\n",
      "2016-01-02  0.325947  0.378729  0.452202  0.674323\n",
      "2016-01-03  0.988314  0.383703  0.491281  0.669768\n",
      "2016-01-04  0.712872  0.279514  0.467297  0.267758\n",
      "2016-01-05  0.303817  0.507810  0.213291  0.516227\n",
      "2016-01-06  0.209319  0.762045  0.911064  0.609089\n",
      "      a    b    c\n",
      "l1  1.0  2.0  3.0\n",
      "l2  1.0  2.0  3.0\n",
      "l3  1.0  2.0  3.0\n",
      "a    float64\n",
      "b    float64\n",
      "c    float64\n",
      "dtype: object\n",
      "Index(['l1', 'l2', 'l3'], dtype='object')\n",
      "Index(['a', 'b', 'c'], dtype='object')\n",
      "[[ 1.  2.  3.]\n",
      " [ 1.  2.  3.]\n",
      " [ 1.  2.  3.]]\n",
      "    l1   l2   l3\n",
      "a  1.0  1.0  1.0\n",
      "b  2.0  2.0  2.0\n",
      "c  3.0  3.0  3.0\n"
     ]
    },
    {
     "data": {
      "text/html": [
       "<div>\n",
       "<style>\n",
       "    .dataframe thead tr:only-child th {\n",
       "        text-align: right;\n",
       "    }\n",
       "\n",
       "    .dataframe thead th {\n",
       "        text-align: left;\n",
       "    }\n",
       "\n",
       "    .dataframe tbody tr th {\n",
       "        vertical-align: top;\n",
       "    }\n",
       "</style>\n",
       "<table border=\"1\" class=\"dataframe\">\n",
       "  <thead>\n",
       "    <tr style=\"text-align: right;\">\n",
       "      <th></th>\n",
       "      <th>a</th>\n",
       "      <th>b</th>\n",
       "      <th>c</th>\n",
       "    </tr>\n",
       "  </thead>\n",
       "  <tbody>\n",
       "    <tr>\n",
       "      <th>l1</th>\n",
       "      <td>1.0</td>\n",
       "      <td>2.0</td>\n",
       "      <td>3.0</td>\n",
       "    </tr>\n",
       "    <tr>\n",
       "      <th>l2</th>\n",
       "      <td>1.0</td>\n",
       "      <td>2.0</td>\n",
       "      <td>3.0</td>\n",
       "    </tr>\n",
       "    <tr>\n",
       "      <th>l3</th>\n",
       "      <td>1.0</td>\n",
       "      <td>2.0</td>\n",
       "      <td>3.0</td>\n",
       "    </tr>\n",
       "  </tbody>\n",
       "</table>\n",
       "</div>"
      ],
      "text/plain": [
       "      a    b    c\n",
       "l1  1.0  2.0  3.0\n",
       "l2  1.0  2.0  3.0\n",
       "l3  1.0  2.0  3.0"
      ]
     },
     "execution_count": 19,
     "metadata": {},
     "output_type": "execute_result"
    }
   ],
   "source": [
    "s = pd.Series([1, 3, 6, np.nan, 45, 1])\n",
    "print(s)\n",
    "\n",
    "dates = pd.date_range('20160101', periods=6)\n",
    "print(dates)\n",
    "\n",
    "df_default = pd.DataFrame(np.arange(12).reshape((3, 4)))\n",
    "print(df_default)\n",
    "\n",
    "df = pd.DataFrame(np.random.rand(6, 4), index=dates, columns=['a', 'b', 'c', 'd'])\n",
    "print(df)\n",
    "\n",
    "df2 = pd.DataFrame({'a':1., 'b':2., 'c':3.}, index=['l1', 'l2', 'l3'])\n",
    "print(df2)\n",
    "print(df2.dtypes)\n",
    "print(df2.index)\n",
    "print(df2.columns)\n",
    "print(df2.values)\n",
    "\n",
    "df2.describe()\n",
    "print(df2.T)\n",
    "\n",
    "# 按标题排序\n",
    "df2.sort_index(axis=0, ascending=False)\n",
    "\n",
    "# 按值排序\n",
    "df2.sort_values(by='a')"
   ]
  },
  {
   "cell_type": "code",
   "execution_count": null,
   "metadata": {},
   "outputs": [],
   "source": []
  }
 ],
 "metadata": {
  "kernelspec": {
   "display_name": "Python 3",
   "language": "python",
   "name": "python3"
  },
  "language_info": {
   "codemirror_mode": {
    "name": "ipython",
    "version": 3
   },
   "file_extension": ".py",
   "mimetype": "text/x-python",
   "name": "python",
   "nbconvert_exporter": "python",
   "pygments_lexer": "ipython3",
   "version": "3.6.1"
  }
 },
 "nbformat": 4,
 "nbformat_minor": 2
}
