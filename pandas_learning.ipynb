{
 "cells": [
  {
   "cell_type": "markdown",
   "metadata": {},
   "source": [
    "## pandas\n",
    "---"
   ]
  },
  {
   "cell_type": "code",
   "execution_count": 2,
   "metadata": {
    "collapsed": true
   },
   "outputs": [],
   "source": [
    "import pandas as pd\n",
    "import numpy as np"
   ]
  },
  {
   "cell_type": "markdown",
   "metadata": {},
   "source": [
    "### 基本介绍\n",
    "---\n",
    "+ `pd.DataFrame`格式：\n",
    "    ```python\n",
    "    pd.DataFrame(data, index, columns, dtype=None, copy=None)\n",
    "    ```\n",
    "    其中如果data传入的是`dict`，则`dict`中的key为columns,value为data（一般都是numpy ndarray格式，此时不需要指定index）；如果`dict`中的value格式为常量，则需要指定index\n",
    "+ pandas的会自动为每个元素添加序号\n",
    "+ `pd.Series`相当于numpy中的一维向量，`pd.DataFrame`相当于二维表\n",
    "+ 默认情况下pandas添加序列的方式是从0开始递增添加。序列可以自己设置\n",
    "+ `df.dtypes`可以按`column`打印数据类型\n",
    "+ `df.index`可以输出`index`名称\n",
    "+ `df.columns`可以输出`columns`名称\n",
    "+ `df.values`可以输出所有值\n",
    "+ `df.describe()`输出一些基本的数学运算结果（如min, mean, count等）\n",
    "+ `df.T`：转置DataFrame\n",
    "+ `df.sort_index(axis=0, ascending=True)`可以按DataFrame的行标题或列标题进行排序，通过axis设置（axis=0按行标题排序，axis=1按列标题排序），ascending设置排序方式，True表示正序，False表示倒序\n",
    "+ `df.sort_values(by=columns_name, ascending=True)`按值排序，by设置根据哪一列数据进行排序"
   ]
  },
  {
   "cell_type": "code",
   "execution_count": 3,
   "metadata": {
    "scrolled": true
   },
   "outputs": [
    {
     "name": "stdout",
     "output_type": "stream",
     "text": [
      "0     1.0\n",
      "1     3.0\n",
      "2     6.0\n",
      "3     NaN\n",
      "4    45.0\n",
      "5     1.0\n",
      "dtype: float64\n",
      "DatetimeIndex(['2016-01-01', '2016-01-02', '2016-01-03', '2016-01-04',\n",
      "               '2016-01-05', '2016-01-06'],\n",
      "              dtype='datetime64[ns]', freq='D')\n",
      "   0  1   2   3\n",
      "0  0  1   2   3\n",
      "1  4  5   6   7\n",
      "2  8  9  10  11\n",
      "                   a         b         c         d\n",
      "2016-01-01  0.451970  0.052376  0.559714  0.091869\n",
      "2016-01-02  0.182085  0.981778  0.857531  0.299372\n",
      "2016-01-03  0.740714  0.256105  0.995360  0.080763\n",
      "2016-01-04  0.189871  0.354229  0.384900  0.834255\n",
      "2016-01-05  0.349115  0.771788  0.352962  0.843854\n",
      "2016-01-06  0.137555  0.159065  0.911701  0.506846\n",
      "      a    b    c\n",
      "l1  1.0  2.0  3.0\n",
      "l2  1.0  2.0  3.0\n",
      "l3  1.0  2.0  3.0\n",
      "a    float64\n",
      "b    float64\n",
      "c    float64\n",
      "dtype: object\n",
      "Index(['l1', 'l2', 'l3'], dtype='object')\n",
      "Index(['a', 'b', 'c'], dtype='object')\n",
      "[[ 1.  2.  3.]\n",
      " [ 1.  2.  3.]\n",
      " [ 1.  2.  3.]]\n",
      "         a    b    c\n",
      "count  3.0  3.0  3.0\n",
      "mean   1.0  2.0  3.0\n",
      "std    0.0  0.0  0.0\n",
      "min    1.0  2.0  3.0\n",
      "25%    1.0  2.0  3.0\n",
      "50%    1.0  2.0  3.0\n",
      "75%    1.0  2.0  3.0\n",
      "max    1.0  2.0  3.0\n",
      "    l1   l2   l3\n",
      "a  1.0  1.0  1.0\n",
      "b  2.0  2.0  2.0\n",
      "c  3.0  3.0  3.0\n"
     ]
    },
    {
     "data": {
      "text/html": [
       "<div>\n",
       "<style>\n",
       "    .dataframe thead tr:only-child th {\n",
       "        text-align: right;\n",
       "    }\n",
       "\n",
       "    .dataframe thead th {\n",
       "        text-align: left;\n",
       "    }\n",
       "\n",
       "    .dataframe tbody tr th {\n",
       "        vertical-align: top;\n",
       "    }\n",
       "</style>\n",
       "<table border=\"1\" class=\"dataframe\">\n",
       "  <thead>\n",
       "    <tr style=\"text-align: right;\">\n",
       "      <th></th>\n",
       "      <th>a</th>\n",
       "      <th>b</th>\n",
       "      <th>c</th>\n",
       "    </tr>\n",
       "  </thead>\n",
       "  <tbody>\n",
       "    <tr>\n",
       "      <th>l1</th>\n",
       "      <td>1.0</td>\n",
       "      <td>2.0</td>\n",
       "      <td>3.0</td>\n",
       "    </tr>\n",
       "    <tr>\n",
       "      <th>l2</th>\n",
       "      <td>1.0</td>\n",
       "      <td>2.0</td>\n",
       "      <td>3.0</td>\n",
       "    </tr>\n",
       "    <tr>\n",
       "      <th>l3</th>\n",
       "      <td>1.0</td>\n",
       "      <td>2.0</td>\n",
       "      <td>3.0</td>\n",
       "    </tr>\n",
       "  </tbody>\n",
       "</table>\n",
       "</div>"
      ],
      "text/plain": [
       "      a    b    c\n",
       "l1  1.0  2.0  3.0\n",
       "l2  1.0  2.0  3.0\n",
       "l3  1.0  2.0  3.0"
      ]
     },
     "execution_count": 3,
     "metadata": {},
     "output_type": "execute_result"
    }
   ],
   "source": [
    "s = pd.Series([1, 3, 6, np.nan, 45, 1])\n",
    "print(s)\n",
    "\n",
    "dates = pd.date_range('20160101', periods=6)\n",
    "print(dates)\n",
    "\n",
    "df_default = pd.DataFrame(np.arange(12).reshape((3, 4)))\n",
    "print(df_default)\n",
    "\n",
    "df = pd.DataFrame(np.random.rand(6, 4), index=dates, columns=['a', 'b', 'c', 'd'])\n",
    "print(df)\n",
    "\n",
    "df2 = pd.DataFrame({'a':1., 'b':2., 'c':3.}, index=['l1', 'l2', 'l3'])\n",
    "print(df2)\n",
    "print(df2.dtypes)\n",
    "print(df2.index)\n",
    "print(df2.columns)\n",
    "print(df2.values)\n",
    "\n",
    "print(df2.describe())\n",
    "print(df2.T)\n",
    "\n",
    "# 按标题排序\n",
    "df2.sort_index(axis=0, ascending=False)\n",
    "\n",
    "# 按值排序\n",
    "df2.sort_values(by='a')"
   ]
  },
  {
   "cell_type": "markdown",
   "metadata": {},
   "source": [
    "### 选择数据\n",
    "---\n",
    "+ 由标签选择：`df.loc[label]`，其中label可以是任何DataFrame中的标签（可以是标签数组或切片）\n",
    "+ 由位置选择：`df.iloc[index]`\n",
    "+ 混合选择：`df.ix[]`（在最新的v.0.21.0中已经弃用）\n",
    "+ 布尔选择: `df[Boolean Expression]`\n",
    "**用loc和iloc实现混合选择的方法：**\n",
    "   + loc:用`df.index`将位置转化成标签\n",
    "       ```\n",
    "       df.loc[label, df.index[index]]\n",
    "       ```\n",
    "   + iloc:用`df.columns.get_loc(单个标签)`或`df.columns.get_indexer([标签列表])`将标签转化成位置\n",
    "       ```\n",
    "       df.iloc[index, df.columns.get_loc(label)]\n",
    "       df.iloc[index, df.columns.get_loc(label_list)]\n",
    "       ```"
   ]
  },
  {
   "cell_type": "code",
   "execution_count": 18,
   "metadata": {},
   "outputs": [
    {
     "name": "stdout",
     "output_type": "stream",
     "text": [
      "             A   B   C   D\n",
      "2013-01-01   0   1   2   3\n",
      "2013-01-02   4   5   6   7\n",
      "2013-01-03   8   9  10  11\n",
      "2013-01-04  12  13  14  15\n",
      "2013-01-05  16  17  18  19\n",
      "2013-01-06  20  21  22  23\n",
      "A column: \n",
      " 2013-01-01     0\n",
      "2013-01-02     4\n",
      "2013-01-03     8\n",
      "2013-01-04    12\n",
      "2013-01-05    16\n",
      "2013-01-06    20\n",
      "Freq: D, Name: A, dtype: int32\n",
      "            A  B   C   D\n",
      "2013-01-01  0  1   2   3\n",
      "2013-01-02  4  5   6   7\n",
      "2013-01-03  8  9  10  11 \n",
      "              A   B   C   D\n",
      "2013-01-02   4   5   6   7\n",
      "2013-01-03   8   9  10  11\n",
      "2013-01-04  12  13  14  15\n",
      "A    4\n",
      "B    5\n",
      "C    6\n",
      "D    7\n",
      "Name: 2013-01-02 00:00:00, dtype: int32\n",
      "             A   B\n",
      "2013-01-01   0   1\n",
      "2013-01-02   4   5\n",
      "2013-01-03   8   9\n",
      "2013-01-04  12  13\n",
      "2013-01-05  16  17\n",
      "2013-01-06  20  21\n",
      "A    4\n",
      "B    5\n",
      "Name: 2013-01-02 00:00:00, dtype: int32\n",
      "             B   C   D\n",
      "2013-01-04  13  14  15\n",
      "2013-01-05  17  18  19\n",
      "2013-01-06  21  22  23\n",
      "             B   C\n",
      "2013-01-02   5   6\n",
      "2013-01-04  13  14\n",
      "2013-01-06  21  22\n",
      "ix selection:\n",
      "             A   C\n",
      "2013-01-01  0   2\n",
      "2013-01-02  4   6\n",
      "2013-01-03  8  10\n",
      "            A  B  C  D\n",
      "2013-01-01  0  1  2  3\n",
      "2013-01-02  4  5  6  7\n"
     ]
    },
    {
     "name": "stderr",
     "output_type": "stream",
     "text": [
      "E:\\Anaconda\\lib\\site-packages\\ipykernel_launcher.py:19: DeprecationWarning: \n",
      ".ix is deprecated. Please use\n",
      ".loc for label based indexing or\n",
      ".iloc for positional indexing\n",
      "\n",
      "See the documentation here:\n",
      "http://pandas.pydata.org/pandas-docs/stable/indexing.html#deprecate_ix\n"
     ]
    }
   ],
   "source": [
    "dates = pd.date_range('20130101', periods=6)\n",
    "df = pd.DataFrame(np.arange(24).reshape((6, 4)), index=dates, columns=['A', 'B', 'C', 'D'])\n",
    "print(df)\n",
    "print('A column: \\n', df.A)    # print(df['A']) 功能相同\n",
    "\n",
    "# 切片选择\n",
    "print(df[0:3], '\\n', df['20130102':'20130104'])\n",
    "\n",
    "# 由标签选择：loc\n",
    "print(df.loc['20130102'])\n",
    "print(df.loc[:, ['A', 'B']])\n",
    "print(df.loc['20130102', ['A', 'B']])\n",
    "\n",
    "# 由位置选择：iloc\n",
    "print(df.iloc[3:, 1:])\n",
    "print(df.iloc[[1, 3, 5], 1:3])\n",
    "\n",
    "# 混合筛选：ix\n",
    "print('ix selection:\\n', df.ix[:3, ['A', 'C']])\n",
    "\n",
    "# Boolean select（选择出A值小于8的行）\n",
    "print(df[df.A < 8])"
   ]
  },
  {
   "cell_type": "markdown",
   "metadata": {},
   "source": [
    "### 设置值\n",
    "---"
   ]
  },
  {
   "cell_type": "code",
   "execution_count": 27,
   "metadata": {},
   "outputs": [
    {
     "name": "stdout",
     "output_type": "stream",
     "text": [
      "             A   B   C   D\n",
      "2017-04-05   0   1   2   3\n",
      "2017-04-06   4   5   6   7\n",
      "2017-04-07   8   9  10  11\n",
      "2017-04-08  12  13  14  15\n",
      "2017-04-09  16  17  18  19\n",
      "2017-04-10  20  21  22  23\n",
      "            A     B    C   D   F  E\n",
      "2017-04-05  0     3    2   3 NaN  1\n",
      "2017-04-06  4  2222    6   7 NaN  2\n",
      "2017-04-07  0     3  123  11 NaN  3\n",
      "2017-04-08  0     3   14  15 NaN  4\n",
      "2017-04-09  0     3   18  19 NaN  5\n",
      "2017-04-10  0     3   22  23 NaN  6\n"
     ]
    }
   ],
   "source": [
    "dates = pd.date_range('20170405',periods=6)\n",
    "df = pd.DataFrame(np.arange(24).reshape((6, 4)), index=dates, columns=['A', 'B', 'C', 'D'])\n",
    "print(df)\n",
    "\n",
    "df.iloc[2, 2] = 123\n",
    "df.loc['20170406', 'B'] = 2222\n",
    "df.A[df.A>4] = 0\n",
    "df.B[df.A==0] = 3\n",
    "df['F'] = np.nan\n",
    "df['E'] = pd.Series([1,2,3,4,5,6], index=df.index)\n",
    "print(df)"
   ]
  },
  {
   "cell_type": "markdown",
   "metadata": {},
   "source": [
    "### 处理丢失数据\n",
    "---\n",
    "+ 丢弃行/列数据：`df.dropna(axis=0, how='any')`。`axis`指定丢弃的是行（0）还是列（1），`how`为`any`时表示该行或列只要有任何一个元素为NaN就丢弃，为`all`时表示全部为NaN时才丢弃\n",
    "+ 填充数据：`df.fillna(value)`\n",
    "+ 判断是否为NaN：`df.isnull()`，返回一个与df相同shape的DataFrame，其中不为NaN的元素变为False，NaN元素变为True"
   ]
  },
  {
   "cell_type": "code",
   "execution_count": 51,
   "metadata": {},
   "outputs": [
    {
     "name": "stdout",
     "output_type": "stream",
     "text": [
      "             A   B     C     D\n",
      "2017-04-05   0   1   2.0   3.0\n",
      "2017-04-06   4   5   NaN   7.0\n",
      "2017-04-07   8   9  10.0   NaN\n",
      "2017-04-08  12  13  14.0  15.0\n",
      "2017-04-09  16  17  18.0  19.0\n",
      "2017-04-10  20  21  22.0  23.0\n",
      "             A   B     C     D\n",
      "2017-04-05   0   1   2.0   3.0\n",
      "2017-04-08  12  13  14.0  15.0\n",
      "2017-04-09  16  17  18.0  19.0\n",
      "2017-04-10  20  21  22.0  23.0\n",
      "             A   B     C     D\n",
      "2017-04-05   0   1   2.0   3.0\n",
      "2017-04-06   4   5   0.0   7.0\n",
      "2017-04-07   8   9  10.0   0.0\n",
      "2017-04-08  12  13  14.0  15.0\n",
      "2017-04-09  16  17  18.0  19.0\n",
      "2017-04-10  20  21  22.0  23.0\n",
      "                A      B      C      D\n",
      "2017-04-05  False  False  False  False\n",
      "2017-04-06  False  False   True  False\n",
      "2017-04-07  False  False  False   True\n",
      "2017-04-08  False  False  False  False\n",
      "2017-04-09  False  False  False  False\n",
      "2017-04-10  False  False  False  False\n"
     ]
    }
   ],
   "source": [
    "dates = pd.date_range('20170405',periods=6)\n",
    "df = pd.DataFrame(np.arange(24).reshape((6, 4)), index=dates, columns=['A', 'B', 'C', 'D'])\n",
    "df.iloc[1, 2] = np.nan\n",
    "df.iloc[2, 3] = np.nan\n",
    "print(df)\n",
    "\n",
    "# 丢弃数据\n",
    "print(df.dropna(axis=0, how='any'))\n",
    "\n",
    "# 填充数据\n",
    "print(df.fillna(value=0))\n",
    "\n",
    "# 判断是否为NaN\n",
    "print(df.isnull())"
   ]
  },
  {
   "cell_type": "markdown",
   "metadata": {},
   "source": [
    "### 导入导出\n",
    "---"
   ]
  },
  {
   "cell_type": "code",
   "execution_count": 58,
   "metadata": {},
   "outputs": [
    {
     "name": "stdout",
     "output_type": "stream",
     "text": [
      "    Student ID  name   age  gender\n",
      "0         1100  Kelly   22  Female\n",
      "1         1101    Clo   21  Female\n",
      "2         1102  Tilly   22  Female\n",
      "3         1103   Tony   24    Male\n",
      "4         1104  David   20    Male\n",
      "5         1105  Catty   22  Female\n",
      "6         1106      M    3  Female\n",
      "7         1107      N   43    Male\n",
      "8         1108      A   13    Male\n",
      "9         1109      S   12    Male\n",
      "10        1110  David   33    Male\n",
      "11        1111     Dw    3  Female\n",
      "12        1112      Q   23    Male\n",
      "13        1113      W   21  Female\n"
     ]
    }
   ],
   "source": [
    "data = pd.read_csv('student.csv')\n",
    "print(data)\n",
    "\n",
    "# 用pickle格式持久化\n",
    "data.to_pickle('student.pickle')"
   ]
  },
  {
   "cell_type": "markdown",
   "metadata": {},
   "source": [
    "### concat 拼接\n",
    "---\n",
    "+ `pd.concat([data], axis=0, ignore_index=False, join='outer')`，axis控制拼接时方向，axis=0表示行拼接，即纵向拼接；ignore_index=True时将忽略原来DataFrame的index（因为可能会有重复），在拼接后的DF中重新定义index；`join='outer'`表示如果合并的两个DF有不一样的index或column，那么不同index和columns处的元素就用NaN填充，如果是`join='inner'`则将不一样的index和column丢弃，只保留相同的。\n",
    "+ 列拼接，即横向拼接时，`join_axes`参数表示以哪一个DF为基准，即保留基准DF的所有行和列（其他DF中以NaN填充），丢弃基准DF中不存在而其他DF中存在的行和列"
   ]
  },
  {
   "cell_type": "code",
   "execution_count": 91,
   "metadata": {
    "scrolled": true
   },
   "outputs": [
    {
     "name": "stdout",
     "output_type": "stream",
     "text": [
      "df0:\n",
      "      a    b    c    d\n",
      "0  0.0  0.0  0.0  0.0\n",
      "1  0.0  0.0  0.0  0.0\n",
      "2  0.0  0.0  0.0  0.0\n",
      "df1:\n",
      "      a    b    c    d\n",
      "0  1.0  1.0  1.0  1.0\n",
      "1  1.0  1.0  1.0  1.0\n",
      "2  1.0  1.0  1.0  1.0\n",
      "df2:\n",
      "      a    b    c    d\n",
      "0  2.0  2.0  2.0  2.0\n",
      "1  2.0  2.0  2.0  2.0\n",
      "2  2.0  2.0  2.0  2.0\n",
      "     a    b    c    d\n",
      "0  0.0  0.0  0.0  0.0\n",
      "1  0.0  0.0  0.0  0.0\n",
      "2  0.0  0.0  0.0  0.0\n",
      "3  1.0  1.0  1.0  1.0\n",
      "4  1.0  1.0  1.0  1.0\n",
      "5  1.0  1.0  1.0  1.0\n",
      "6  2.0  2.0  2.0  2.0\n",
      "7  2.0  2.0  2.0  2.0\n",
      "8  2.0  2.0  2.0  2.0\n",
      "df4:\n",
      "      a    b    c    d\n",
      "1  0.0  0.0  0.0  0.0\n",
      "2  0.0  0.0  0.0  0.0\n",
      "3  0.0  0.0  0.0  0.0\n",
      "df5:\n",
      "      e    b    c    d\n",
      "4  1.0  1.0  1.0  1.0\n",
      "2  1.0  1.0  1.0  1.0\n",
      "3  1.0  1.0  1.0  1.0\n",
      "     a    b    c    d    e\n",
      "0  0.0  0.0  0.0  0.0  NaN\n",
      "1  0.0  0.0  0.0  0.0  NaN\n",
      "2  0.0  0.0  0.0  0.0  NaN\n",
      "3  NaN  1.0  1.0  1.0  1.0\n",
      "4  NaN  1.0  1.0  1.0  1.0\n",
      "5  NaN  1.0  1.0  1.0  1.0\n",
      "     b    c    d\n",
      "0  0.0  0.0  0.0\n",
      "1  0.0  0.0  0.0\n",
      "2  0.0  0.0  0.0\n",
      "3  1.0  1.0  1.0\n",
      "4  1.0  1.0  1.0\n",
      "5  1.0  1.0  1.0\n",
      "     a    b    c    d    e    b    c    d\n",
      "1  0.0  0.0  0.0  0.0  NaN  NaN  NaN  NaN\n",
      "2  0.0  0.0  0.0  0.0  1.0  1.0  1.0  1.0\n",
      "3  0.0  0.0  0.0  0.0  1.0  1.0  1.0  1.0\n",
      "     a    b    c    d\n",
      "0  1.0  1.0  1.0  1.0\n",
      "1  1.0  1.0  1.0  1.0\n",
      "2  1.0  1.0  1.0  1.0\n",
      "3  1.0  2.0  3.0  4.0\n",
      "     a    b    c    d\n",
      "0  1.0  1.0  1.0  1.0\n",
      "1  1.0  1.0  1.0  1.0\n",
      "2  1.0  1.0  1.0  1.0\n",
      "0  2.0  2.0  2.0  2.0\n",
      "1  2.0  2.0  2.0  2.0\n",
      "2  2.0  2.0  2.0  2.0\n",
      "1  0.0  0.0  0.0  0.0\n",
      "2  0.0  0.0  0.0  0.0\n",
      "3  0.0  0.0  0.0  0.0\n"
     ]
    }
   ],
   "source": [
    "df0 = pd.DataFrame(np.ones((3,4)) * 0, columns=['a', 'b', 'c', 'd'])\n",
    "df1 = pd.DataFrame(np.ones((3,4)) * 1, columns=['a', 'b', 'c', 'd'])\n",
    "df2 = pd.DataFrame(np.ones((3,4)) * 2, columns=['a', 'b', 'c', 'd'])\n",
    "print('df0:\\n', df0)\n",
    "print('df1:\\n', df1)\n",
    "print('df2:\\n', df2)\n",
    "\n",
    "v_concat = pd.concat([df0, df1, df2], axis=0, ignore_index=True)    # axis=0表示合并时以行合并\n",
    "print(v_concat)\n",
    "\n",
    "df4 = pd.DataFrame(np.ones((3,4)) * 0, columns=['a', 'b', 'c', 'd'], index=[1, 2, 3])\n",
    "df5 = pd.DataFrame(np.ones((3,4)) * 1, columns=['e', 'b', 'c', 'd'], index=[4, 2, 3])\n",
    "print('df4:\\n', df4)\n",
    "print('df5:\\n', df5)\n",
    "\n",
    "res1 = pd.concat([df4, df5], join='outer', ignore_index=True)\n",
    "res2 = pd.concat([df4, df5], join='inner', ignore_index=True)\n",
    "print(res1)\n",
    "print(res2)\n",
    "\n",
    "res3 = pd.concat([df4, df5], axis=1, join_axes=[df4.index])\n",
    "print(res3)\n",
    "\n",
    "s1 = pd.Series([1,2,3,4], index=['a','b','c','d'])\n",
    "print(df1.append(s1, ignore_index=True))\n",
    "res4 = df1.append([df2,df4])\n",
    "print(res4)"
   ]
  },
  {
   "cell_type": "markdown",
   "metadata": {},
   "source": [
    "### merge 合并\n",
    "---\n",
    "+ `pd.merge(left_df, right_df, on=key)`是按照属性进行合并，合并的根据是主键key。当left_df和right_df都存在key时才能合并。如果有多个key则传入key列表。当key中存在不同时，合并的结果会保留key相同的行。\n",
    "+ merge合并方式有四种，由`how = ['left', 'right', 'outer', 'inner']`定义。与数据库中的union类似。\n",
    "+ `indicator`参数将显示出结果中merge的方式，默认值是False不显示，设置为True时显示。\n",
    "+ merge可以按index进行合并，合并时不需要传入`on=key`参数，而需要设置`left_index=True`和`right_index=True`。\n",
    "+ 假如合并时有多个属性名是相同的，但只有一个属性作为主键key，其他相同属性名的属性在合并后的DF中以不同的属性表示，则需要设置`suffixes`参数，suffixes参数传入一个列表，列表元素是相同属性名在新DF中的属性名后缀。"
   ]
  },
  {
   "cell_type": "code",
   "execution_count": 114,
   "metadata": {},
   "outputs": [
    {
     "name": "stdout",
     "output_type": "stream",
     "text": [
      "    A   B key1 key2\n",
      "0  A0  B0   K0   K0\n",
      "1  A1  B1   K1   K1\n",
      "2  A2  B2   K2   K0\n",
      "3  A3  B3   K3   K1\n",
      "    C   D key1 key2\n",
      "0  C0  D0   K0   K0\n",
      "1  C1  D1   K1   K0\n",
      "2  C2  D2   K2   K0\n",
      "3  C3  D3   K3   K0\n",
      "    A   B key1 key2   C   D\n",
      "0  A0  B0   K0   K0  C0  D0\n",
      "1  A2  B2   K2   K0  C2  D2\n",
      "     A    B key1 key2    C    D\n",
      "0   A0   B0   K0   K0   C0   D0\n",
      "1   A1   B1   K1   K1  NaN  NaN\n",
      "2   A2   B2   K2   K0   C2   D2\n",
      "3   A3   B3   K3   K1  NaN  NaN\n",
      "4  NaN  NaN   K1   K0   C1   D1\n",
      "5  NaN  NaN   K3   K0   C3   D3\n",
      "    A   B key1 key2    C    D\n",
      "0  A0  B0   K0   K0   C0   D0\n",
      "1  A1  B1   K1   K1  NaN  NaN\n",
      "2  A2  B2   K2   K0   C2   D2\n",
      "3  A3  B3   K3   K1  NaN  NaN\n",
      "     A    B key1 key2   C   D\n",
      "0   A0   B0   K0   K0  C0  D0\n",
      "1   A2   B2   K2   K0  C2  D2\n",
      "2  NaN  NaN   K1   K0  C1  D1\n",
      "3  NaN  NaN   K3   K0  C3  D3\n",
      "   col1 col_left\n",
      "0     0        a\n",
      "1     1        b\n",
      "   col1  col_right\n",
      "0     1          2\n",
      "1     2          2\n",
      "2     2          2\n",
      "   col1 col_left  col_right      _merge\n",
      "0     0        a        NaN   left_only\n",
      "1     1        b        2.0        both\n",
      "2     2      NaN        2.0  right_only\n",
      "3     2      NaN        2.0  right_only\n",
      "     A   B\n",
      "K0  A0  B0\n",
      "K1  A1  B1\n",
      "K2  A2  B2\n",
      "     C   D\n",
      "K0  C0  D0\n",
      "K2  C2  D2\n",
      "K3  C3  D3\n",
      "      A    B    C    D\n",
      "K0   A0   B0   C0   D0\n",
      "K1   A1   B1  NaN  NaN\n",
      "K2   A2   B2   C2   D2\n",
      "K3  NaN  NaN   C3   D3\n",
      "   age   name\n",
      "0   23    Joy\n",
      "1   24   Wang\n",
      "2   25  David\n",
      "   age  name\n",
      "0   17   Joy\n",
      "1   23  Yuan\n",
      "2   34   Tim\n",
      "   age_boy   name  age_girl\n",
      "0     23.0    Joy      17.0\n",
      "1     24.0   Wang       NaN\n",
      "2     25.0  David       NaN\n",
      "3      NaN   Yuan      23.0\n",
      "4      NaN    Tim      34.0\n"
     ]
    }
   ],
   "source": [
    "left = pd.DataFrame({'key1': ['K0', 'K1', 'K2', 'K3'],\n",
    "                                 'key2': ['K0', 'K1', 'K0', 'K1'],\n",
    "                                  'A': ['A0', 'A1', 'A2', 'A3'],\n",
    "                                  'B': ['B0', 'B1', 'B2', 'B3']})\n",
    "right = pd.DataFrame({'key1': ['K0', 'K1', 'K2', 'K3'],\n",
    "                                  'key2': ['K0', 'K0', 'K0', 'K0'],\n",
    "                                    'C': ['C0', 'C1', 'C2', 'C3'],\n",
    "                                    'D': ['D0', 'D1', 'D2', 'D3']})\n",
    "print(left)\n",
    "print(right)\n",
    "# how = ['left', 'right', 'outer', 'inner']\n",
    "res1 = pd.merge(left, right, on=['key1', 'key2'], how='inner')\n",
    "print(res1)\n",
    "res2 = pd.merge(left, right, on=['key1', 'key2'], how='outer')\n",
    "print(res2)\n",
    "res3 = pd.merge(left, right, on=['key1', 'key2'], how='left')\n",
    "print(res3)\n",
    "res4 = pd.merge(left, right, on=['key1', 'key2'], how='right')\n",
    "print(res4)\n",
    "\n",
    "# indicator\n",
    "df1 = pd.DataFrame({'col1':[0,1], 'col_left':['a','b']})\n",
    "df2 = pd.DataFrame({'col1':[1,2,2],'col_right':[2,2,2]})\n",
    "print(df1)\n",
    "print(df2)\n",
    "res = pd.merge(df1, df2, on='col1', how='outer', indicator=True)\n",
    "print(res)\n",
    "\n",
    "# merged by index\n",
    "left = pd.DataFrame({'A': ['A0', 'A1', 'A2'],\n",
    "                                  'B': ['B0', 'B1', 'B2']},\n",
    "                                  index=['K0', 'K1', 'K2'])\n",
    "right = pd.DataFrame({'C': ['C0', 'C2', 'C3'],\n",
    "                                     'D': ['D0', 'D2', 'D3']},\n",
    "                                      index=['K0', 'K2', 'K3'])\n",
    "print(left)\n",
    "print(right)\n",
    "res = pd.merge(left, right, left_index=True, right_index=True, how='outer')\n",
    "print(res)\n",
    "\n",
    "boy = pd.DataFrame({'name':['Joy', 'Wang', 'David'], 'age':[23, 24, 25]})\n",
    "girl = pd.DataFrame({'name':['Joy', 'Yuan', 'Tim'], 'age':[17, 23, 34]})\n",
    "print(boy)\n",
    "print(girl)\n",
    "res = pd.merge(boy, girl, on='name', suffixes=['_boy', '_girl'], how='outer')\n",
    "print(res)"
   ]
  },
  {
   "cell_type": "markdown",
   "metadata": {},
   "source": [
    "### plot\n",
    "---\n",
    "+ plot方法：'bar', 'hist', 'box', 'kde', 'area', 'scatter', 'hexbin', 'pie'"
   ]
  },
  {
   "cell_type": "code",
   "execution_count": 115,
   "metadata": {
    "collapsed": true
   },
   "outputs": [],
   "source": [
    "import matplotlib.pyplot as plt"
   ]
  },
  {
   "cell_type": "code",
   "execution_count": 122,
   "metadata": {},
   "outputs": [
    {
     "data": {
      "image/png": "[encoded data removed]",
      "text/plain": [
       "<matplotlib.figure.Figure at 0x16d4dc9ec50>"
      ]
     },
     "metadata": {},
     "output_type": "display_data"
    },
    {
     "data": {
      "image/png": "[encoded data removed]",
      "text/plain": [
       "<matplotlib.figure.Figure at 0x16d4d98d160>"
      ]
     },
     "metadata": {},
     "output_type": "display_data"
    },
    {
     "data": {
      "image/png": "[encoded data removed]",
      "text/plain": [
       "<matplotlib.figure.Figure at 0x16d4e016f60>"
      ]
     },
     "metadata": {},
     "output_type": "display_data"
    }
   ],
   "source": [
    "data = pd.Series(np.random.randn(1000), index=np.arange(1000))\n",
    "# cumsum累加\n",
    "data = data.cumsum()\n",
    "data.plot()\n",
    "plt.show()\n",
    "\n",
    "data = pd.DataFrame(np.random.randn(1000, 4), index=np.arange(1000), columns=list(\"ABCD\"))\n",
    "data = data.cumsum()\n",
    "data.plot()\n",
    "plt.show()\n",
    "\n",
    "ax = data.plot.scatter(x='A', y='B', color='DarkBlue', label='Class 1')\n",
    "data.plot.scatter(x='A', y='C', color='DarkGreen', label='Class 2', ax=ax)\n",
    "plt.show()"
   ]
  }
 ],
 "metadata": {
  "kernelspec": {
   "display_name": "Python 3",
   "language": "python",
   "name": "python3"
  },
  "language_info": {
   "codemirror_mode": {
    "name": "ipython",
    "version": 3
   },
   "file_extension": ".py",
   "mimetype": "text/x-python",
   "name": "python",
   "nbconvert_exporter": "python",
   "pygments_lexer": "ipython3",
   "version": "3.6.1"
  }
 },
 "nbformat": 4,
 "nbformat_minor": 2
}
