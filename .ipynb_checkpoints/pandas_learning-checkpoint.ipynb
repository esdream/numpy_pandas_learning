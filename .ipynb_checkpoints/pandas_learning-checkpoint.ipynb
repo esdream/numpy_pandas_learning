{
 "cells": [
  {
   "cell_type": "markdown",
   "metadata": {},
   "source": [
    "## pandas\n",
    "---"
   ]
  },
  {
   "cell_type": "code",
   "execution_count": 1,
   "metadata": {
    "collapsed": true
   },
   "outputs": [],
   "source": [
    "import pandas as pd\n",
    "import numpy as np"
   ]
  },
  {
   "cell_type": "markdown",
   "metadata": {},
   "source": [
    "### 基本介绍\n",
    "---\n",
    "+ pandas的会自动为每个元素添加序号\n",
    "+ `pd.Series`相当于numpy中的一维向量，`pd.DataFrame`相当于二维表\n",
    "+ 默认情况下pandas添加序列的方式是从0开始递增添加。序列可以自己设置"
   ]
  },
  {
   "cell_type": "code",
   "execution_count": 9,
   "metadata": {},
   "outputs": [
    {
     "name": "stdout",
     "output_type": "stream",
     "text": [
      "0     1.0\n",
      "1     3.0\n",
      "2     6.0\n",
      "3     NaN\n",
      "4    45.0\n",
      "5     1.0\n",
      "dtype: float64\n",
      "DatetimeIndex(['2016-01-01', '2016-01-02', '2016-01-03', '2016-01-04',\n",
      "               '2016-01-05', '2016-01-06'],\n",
      "              dtype='datetime64[ns]', freq='D')\n",
      "   0  1   2   3\n",
      "0  0  1   2   3\n",
      "1  4  5   6   7\n",
      "2  8  9  10  11\n",
      "                   a         b         c         d\n",
      "2016-01-01  0.327685  0.416360  0.388391  0.715013\n",
      "2016-01-02  0.282171  0.088807  0.632985  0.103233\n",
      "2016-01-03  0.941094  0.024208  0.792719  0.032272\n",
      "2016-01-04  0.270038  0.809198  0.793224  0.435452\n",
      "2016-01-05  0.204713  0.926734  0.058588  0.205295\n",
      "2016-01-06  0.800552  0.604046  0.189447  0.892279\n"
     ]
    }
   ],
   "source": [
    "s = pd.Series([1, 3, 6, np.nan, 45, 1])\n",
    "print(s)\n",
    "\n",
    "dates = pd.date_range('20160101', periods=6)\n",
    "print(dates)\n",
    "\n",
    "df_default = pd.DataFrame(np.arange(12).reshape((3, 4)))\n",
    "print(df_default)\n",
    "\n",
    "df = pd.DataFrame(np.random.rand(6, 4), index=dates, columns=['a', 'b', 'c', 'd'])\n",
    "print(df)"
   ]
  },
  {
   "cell_type": "code",
   "execution_count": null,
   "metadata": {
    "collapsed": true
   },
   "outputs": [],
   "source": []
  }
 ],
 "metadata": {
  "kernelspec": {
   "display_name": "Python 3",
   "language": "python",
   "name": "python3"
  },
  "language_info": {
   "codemirror_mode": {
    "name": "ipython",
    "version": 3
   },
   "file_extension": ".py",
   "mimetype": "text/x-python",
   "name": "python",
   "nbconvert_exporter": "python",
   "pygments_lexer": "ipython3",
   "version": "3.6.1"
  }
 },
 "nbformat": 4,
 "nbformat_minor": 2
}
