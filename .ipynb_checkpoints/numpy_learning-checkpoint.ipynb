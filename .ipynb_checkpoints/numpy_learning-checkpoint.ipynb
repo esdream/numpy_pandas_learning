{
 "cells": [
  {
   "cell_type": "markdown",
   "metadata": {},
   "source": [
    "## Numpy\n",
    "---"
   ]
  },
  {
   "cell_type": "code",
   "execution_count": 2,
   "metadata": {
    "collapsed": true
   },
   "outputs": [],
   "source": [
    "import numpy as np"
   ]
  },
  {
   "cell_type": "markdown",
   "metadata": {},
   "source": [
    "### Array的属性\n",
    "---"
   ]
  },
  {
   "cell_type": "code",
   "execution_count": 7,
   "metadata": {},
   "outputs": [
    {
     "name": "stdout",
     "output_type": "stream",
     "text": [
      "[[1 2 3]\n",
      " [2 3 4]]\n",
      "number of dim: 2\n",
      "shape: (2, 3)\n",
      "size: 6\n"
     ]
    }
   ],
   "source": [
    "array = np.array([[1, 2, 3],\n",
    "                  [2, 3, 4]])\n",
    "print(array)\n",
    "print('number of dim:', array.ndim)    # ndim: dimension\n",
    "print('shape:', array.shape)    # shape：(行，列)\n",
    "\n",
    "print('size:', array.size)"
   ]
  },
  {
   "cell_type": "markdown",
   "metadata": {},
   "source": [
    "### 创建Array与格式\n",
    "---"
   ]
  },
  {
   "cell_type": "code",
   "execution_count": 16,
   "metadata": {},
   "outputs": [
    {
     "name": "stdout",
     "output_type": "stream",
     "text": [
      "float32\n"
     ]
    }
   ],
   "source": [
    "a = np.array([[2, 3, 4],\n",
    "              [3, 4, 6]], dtype=np.float32)\n",
    "print(a.dtype)"
   ]
  },
  {
   "cell_type": "markdown",
   "metadata": {},
   "source": [
    "1. `linespace`可以进行分段，并返回分段节点，前两个参数是首尾节点，最后一个参数是节点数（即段数+1）"
   ]
  },
  {
   "cell_type": "code",
   "execution_count": 35,
   "metadata": {},
   "outputs": [
    {
     "name": "stdout",
     "output_type": "stream",
     "text": [
      "[[ 0.  0.  0.  0.  0.]\n",
      " [ 0.  0.  0.  0.  0.]\n",
      " [ 0.  0.  0.  0.  0.]]\n",
      "[[ 1.  1.  1.  1.  1.  1.]\n",
      " [ 1.  1.  1.  1.  1.  1.]\n",
      " [ 1.  1.  1.  1.  1.  1.]\n",
      " [ 1.  1.  1.  1.  1.  1.]\n",
      " [ 1.  1.  1.  1.  1.  1.]]\n",
      "[[ 0.  0.  0.  0.]\n",
      " [ 0.  0.  0.  0.]\n",
      " [ 0.  0.  0.  0.]]\n",
      "[[ 0  1  2  3]\n",
      " [ 4  5  6  7]\n",
      " [ 8  9 10 11]]\n",
      "[  1.    5.5  10. ]\n"
     ]
    }
   ],
   "source": [
    "zeros_mat = np.zeros((3, 5))\n",
    "print(zeros)\n",
    "ones_mat = np.ones((5, 6), dtype=np.float32)\n",
    "print(ones_mat)\n",
    "empty_mat = np.empty((3, 4))    # empty生成的是每个元素非常接近零的矩阵\n",
    "print(empty_mat)\n",
    "arange_vec = np.arange(12).reshape((3, 4))\n",
    "print(arange_vec)\n",
    "linesapce_mat = np.linspace(1, 10, 3)\n",
    "print(linesapce_mat)"
   ]
  },
  {
   "cell_type": "markdown",
   "metadata": {
    "collapsed": true
   },
   "source": [
    "### numpy的基础运算\n",
    "---\n",
    "+ 对于np.array对象，`np.dot(a, b)`执行的是点乘运算，即矩阵乘法（`a.dot(b)`与之计算方式相同）；`a * b`执行的是每个元素与对应位置元素相乘."
   ]
  },
  {
   "cell_type": "code",
   "execution_count": 14,
   "metadata": {},
   "outputs": [
    {
     "name": "stdout",
     "output_type": "stream",
     "text": [
      "[10 20 30 40] [0 1 2 3]\n",
      "[    1    20   900 64000]\n",
      "[-0.54402111  0.91294525 -0.98803162  0.74511316]\n",
      "[ True  True  True False]\n",
      "[[1 1]\n",
      " [0 1]]\n",
      "[[0 1]\n",
      " [2 3]]\n",
      "[[0 1]\n",
      " [0 3]]\n",
      "[[2 4]\n",
      " [2 3]]\n",
      "[[2 4]\n",
      " [2 3]]\n"
     ]
    }
   ],
   "source": [
    "a = np.array([10, 20, 30, 40])\n",
    "b = np.arange(4)\n",
    "print(a, b)\n",
    "c = a ** b\n",
    "print(c)\n",
    "# numpy中提供了很多数学运算方法\n",
    "d = np.sin(a)\n",
    "print(d)\n",
    "print(b < 3)\n",
    "\n",
    "mat_1 = np.array([[1, 1],\n",
    "                  [0, 1]])\n",
    "mat_2 = np.arange(4).reshape((2, 2))\n",
    "print(mat_1)\n",
    "print(mat_2)\n",
    "c = mat_1 * mat_2\n",
    "c_dot = np.dot(mat_1, mat_2)\n",
    "c_dot_2 = mat_1.dot(mat_2)\n",
    "print(c)\n",
    "print(c_dot)\n",
    "print(c_dot_2)"
   ]
  },
  {
   "cell_type": "markdown",
   "metadata": {},
   "source": [
    "---\n",
    "+ 随机数\n",
    "    `np.random.random((shape))`能生成形状为shape的随机数\n",
    "+ axis\n",
    "    axis表示shape中的维度，axis为几（从0开始），则表示该维度被压缩成1。例如shape(batch) = [128, 28, 28]，如果\n",
    "    ```\n",
    "    m = np.mean(batch, axis=0)\n",
    "    ```\n",
    "    则表示第0维（即维数为128的维）被压缩为1，返回结果shape(m) = [28 ,28]."
   ]
  },
  {
   "cell_type": "code",
   "execution_count": 21,
   "metadata": {},
   "outputs": [
    {
     "name": "stdout",
     "output_type": "stream",
     "text": [
      "[[ 0.31570437  0.8398732   0.50320093  0.90144334]\n",
      " [ 0.52986582  0.65243483  0.08869542  0.36604817]]\n",
      "[ 2.56022184  1.63704424]\n",
      "[ 0.31570437  0.08869542]\n",
      "[ 0.90144334  0.65243483]\n"
     ]
    }
   ],
   "source": [
    "random_array = np.random.random((2, 4))\n",
    "print(random_array)\n",
    "print(np.sum(random_array, axis=1))\n",
    "print(np.min(random_array, axis=1))\n",
    "print(np.max(random_array, axis=1))"
   ]
  },
  {
   "cell_type": "markdown",
   "metadata": {},
   "source": [
    "---\n",
    "+ 索引操作:\n",
    "    `argmin(A)`表示A中最小值的索引，索引是先将矩阵向量化为一维（按从左到右，从上到下的顺序），然后返回最小值在该向量中的索引。`argmax(A)`同理。\n",
    "+ 排序:\n",
    "    `np.sort(A)`可以对矩阵元素按从左到右，从上到下递增排序。\n",
    "+ 转置:\n",
    "    `np.transpose(A)`或`A.T`。\n",
    "+ 截取:\n",
    "    `np.clip(A, min, max)`可以使当元素小于min时，令元素等于min；当元素大于max时，令元素等于max。中间的元素保持不变。"
   ]
  },
  {
   "cell_type": "code",
   "execution_count": 43,
   "metadata": {},
   "outputs": [
    {
     "name": "stdout",
     "output_type": "stream",
     "text": [
      "0\n",
      "11\n",
      "7.5\n",
      "7.5\n",
      "7.5\n",
      "median: 7.5\n",
      "[[ 2  3  4  5]\n",
      " [ 6  7  8  9]\n",
      " [10 11 12 13]]\n",
      "[ 2  5  9 14 20 27 35 44 54 65 77 90]\n",
      "[[1 1 1]\n",
      " [1 1 1]\n",
      " [1 1 1]]\n",
      "[]\n",
      "(array([0, 0, 0, 0, 1, 1, 1, 1, 2, 2, 2, 2], dtype=int64), array([0, 1, 2, 3, 0, 1, 2, 3, 0, 1, 2, 3], dtype=int64))\n",
      "[[ 0.19731267  0.46274003  0.53949162]\n",
      " [ 0.27220979  0.61882064  0.99568739]]\n",
      "transpose: \n",
      " [[ 2  6 10]\n",
      " [ 3  7 11]\n",
      " [ 4  8 12]\n",
      " [ 5  9 13]]\n",
      "[[ 2  6 10]\n",
      " [ 3  7 11]\n",
      " [ 4  8 12]\n",
      " [ 5  9 13]]\n",
      "[[5 5 5 5]\n",
      " [6 7 8 9]\n",
      " [9 9 9 9]]\n"
     ]
    }
   ],
   "source": [
    "A = np.arange(2, 14).reshape((3, 4))\n",
    "print(np.argmin(A))\n",
    "print(np.argmax(A))\n",
    "\n",
    "# 下面三种形式都可以求矩阵的均值\n",
    "print(np.mean(A))\n",
    "print(A.mean())\n",
    "print(np.average(A))\n",
    "\n",
    "# 输出中位数\n",
    "print(\"median:\", np.median(A))\n",
    "\n",
    "# 累加\n",
    "print(A)\n",
    "print(np.cumsum(A))\n",
    "\n",
    "# 逐差，矩阵向量化后每两个相邻元素的差，shape中行数与原矩阵相同，列数比原矩阵少1\n",
    "print(np.diff(A))\n",
    "D = [[2],\n",
    "     [3]]\n",
    "print(np.diff(D))\n",
    "\n",
    "# 找出非零数,返回值为两个dtype=int64的nparray，第一个是矩阵中非零元素的行数，第二个是矩阵中非零元素的列数，两个nparray中相同index的元素表示原矩阵中一个元素的行和列\n",
    "print(np.nonzero(A))\n",
    "\n",
    "# 排序\n",
    "print(np.sort(np.random.random((2, 3))))\n",
    "\n",
    "# 矩阵转置\n",
    "print('transpose: \\n', np.transpose(A))\n",
    "# 或者\n",
    "print(A.T)\n",
    "\n",
    "# 截取\n",
    "print(np.clip(A, 5, 9))"
   ]
  },
  {
   "cell_type": "markdown",
   "metadata": {},
   "source": [
    "---\n",
    "### 索引\n",
    "+ 迭代列:\n",
    "    numpy中默认对矩阵的迭代是迭代行，要迭代矩阵的列，可以迭代矩阵的转置。\n",
    "+ 迭代元素:\n",
    "    迭代`A.flat`或者`A.flatten()`。其中`A.flat`返回一个迭代器，`A.flatten()`返回数组。"
   ]
  },
  {
   "cell_type": "code",
   "execution_count": 4,
   "metadata": {},
   "outputs": [
    {
     "name": "stdout",
     "output_type": "stream",
     "text": [
      "[[ 3  4  5  6]\n",
      " [ 7  8  9 10]\n",
      " [11 12 13 14]]\n",
      "9\n",
      "9\n",
      "[11 12 13 14]\n",
      "[ 4  8 12]\n",
      "[3 4 5 6]\n",
      "[ 7  8  9 10]\n",
      "[11 12 13 14]\n",
      "[ 3  7 11]\n",
      "[ 4  8 12]\n",
      "[ 5  9 13]\n",
      "[ 6 10 14]\n",
      "<class 'numpy.flatiter'>\n",
      "[ 3  4  5  6  7  8  9 10 11 12 13 14]\n",
      "3\n",
      "4\n",
      "5\n",
      "6\n",
      "7\n",
      "8\n",
      "9\n",
      "10\n",
      "11\n",
      "12\n",
      "13\n",
      "14\n"
     ]
    }
   ],
   "source": [
    "A = np.arange(3, 15).reshape((3, 4))\n",
    "print(A)\n",
    "print(A[1][2])\n",
    "print(A[1, 2])\n",
    "print(A[2, :])\n",
    "print(A[:, 1])\n",
    "\n",
    "# 迭代行\n",
    "for row in A:\n",
    "    print(row)\n",
    "\n",
    "# 迭代列\n",
    "for column in A.T:\n",
    "    print(column.T)\n",
    "\n",
    "# 迭代元素\n",
    "print(type(A.flat))\n",
    "print(A.flatten())\n",
    "for item in A.flatten():\n",
    "    print(item)"
   ]
  },
  {
   "cell_type": "markdown",
   "metadata": {},
   "source": [
    "---\n",
    "### nparray合并\n",
    "+ 竖向合并: `np.vstack((矩阵Tuple))`\n",
    "+ 横向合并: `np.hstack((矩阵Tuple))`\n",
    "+ 将行向量转换为列向量/添加行的维度：`np.newaxis()`。实际上就是None的一个别名\n",
    "+ 多个矩阵合并：`np.concatenate`，合并时可以指定合并维度，但合并前矩阵应与合并后矩阵具有相同维数"
   ]
  },
  {
   "cell_type": "code",
   "execution_count": 71,
   "metadata": {},
   "outputs": [
    {
     "name": "stdout",
     "output_type": "stream",
     "text": [
      "[[1 1 1]\n",
      " [2 2 2]]\n",
      "[1 1 1 2 2 2]\n",
      "[[1 1 1]]\n",
      "[[1]\n",
      " [1]\n",
      " [1]]\n",
      "<class 'NoneType'>\n",
      "[[ 2]\n",
      " [ 7]\n",
      " [12]]\n",
      "[[ 1]\n",
      " [ 6]\n",
      " [11]]\n",
      "[[1 2 2 1]\n",
      " [1 2 2 1]\n",
      " [1 2 2 1]]\n"
     ]
    }
   ],
   "source": [
    "A = np.array([1, 1, 1])\n",
    "B = np.array([2, 2, 2])\n",
    "\n",
    "print(np.vstack((A, B)))\n",
    "print(np.hstack((A, B)))\n",
    "\n",
    "# 添加行的维度\n",
    "print(A[np.newaxis, :])\n",
    "# 添加列的维度（将行向量转化为列）\n",
    "print(A[:, np.newaxis])\n",
    "print(type(np.newaxis))\n",
    "\n",
    "# 因此在索引矩阵的列时，正确的索引方式是\n",
    "X = np.arange(0, 15).reshape((3, 5))\n",
    "print(X[:, 2][:, np.newaxis])\n",
    "# 实际上np.newaxis只是起到占位的作用（与None一样），真正的运算是由[]完成的\n",
    "print(X[:, 1][:, None])\n",
    "\n",
    "# 多个矩阵合并\n",
    "A = A[:, np.newaxis]\n",
    "B = B[:, np.newaxis]\n",
    "C = np.concatenate((A, B, B, A), axis=1)\n",
    "print(C)"
   ]
  },
  {
   "cell_type": "markdown",
   "metadata": {},
   "source": [
    "---\n",
    "### ndarray分割\n",
    "+ 等量分割：`np.split(matrix, indices_or_sections, axis=n)`，将matrix分割为sections块，分割的方向由axis指定。0为横向分割（分割行），1为纵向分割（分割列）\n",
    "+ 不等量分割：`np.array_split()`。也可以直接用`np.split()`，分割块数参数传入分割节点索引数组，即可实现分割"
   ]
  },
  {
   "cell_type": "code",
   "execution_count": 75,
   "metadata": {},
   "outputs": [
    {
     "name": "stdout",
     "output_type": "stream",
     "text": [
      "[[ 0  1  2  3  4  5]\n",
      " [ 6  7  8  9 10 11]]\n",
      "[array([[0, 1, 2],\n",
      "       [6, 7, 8]]), array([[ 3,  4,  5],\n",
      "       [ 9, 10, 11]])]\n",
      "[array([[0, 1, 2],\n",
      "       [6, 7, 8]]), array([[3],\n",
      "       [9]]), array([[ 4,  5],\n",
      "       [10, 11]])]\n"
     ]
    }
   ],
   "source": [
    "mat_1 = np.arange(12).reshape((2, 6))\n",
    "print(mat_1)\n",
    "\n",
    "# 分割,2表示分割为两份，axis=1表示纵向分割\n",
    "print(np.split(mat_1, 2, axis=1))\n",
    "# 传入数组表示不等量分割，这里表示[0, 3)为第一块，[3, 4)为第二块，剩下的为第三块\n",
    "print(np.split(mat_1, [3, 4], axis=1))"
   ]
  },
  {
   "cell_type": "markdown",
   "metadata": {},
   "source": [
    "---\n",
    "### copy & deep copy\n",
    "+ deep copy: `b = a.copy()`可以对nparray对象进行深度拷贝"
   ]
  },
  {
   "cell_type": "code",
   "execution_count": 86,
   "metadata": {},
   "outputs": [
    {
     "name": "stdout",
     "output_type": "stream",
     "text": [
      "a: [11  5 32  3]\n",
      "b: [11  5 32  3]\n",
      "c: [11  5 32  3]\n",
      "d: [11  5 32  3]\n",
      "True\n",
      "a: [ 0  1  2 45]\n",
      "b: [0 1 2 3]\n",
      "False\n"
     ]
    }
   ],
   "source": [
    "def copy_func():\n",
    "    a = np.arange(4)\n",
    "    b = a\n",
    "    c = a\n",
    "    d = b\n",
    "    a[0] = 11\n",
    "    d[1:3] = [5, 32]\n",
    "    print(\"a:\", a)\n",
    "    print(\"b:\", b)\n",
    "    print(\"c:\", c)\n",
    "    print(\"d:\", d)\n",
    "    print(d is a)\n",
    "copy_func()\n",
    "\n",
    "def deep_copy_func():\n",
    "    a = np.arange(4)\n",
    "    b = a.copy()  # deep copy\n",
    "    a[3] = 45\n",
    "    print(\"a:\", a)\n",
    "    print(\"b:\", b)\n",
    "    print(b is a)\n",
    "deep_copy_func()"
   ]
  }
 ],
 "metadata": {
  "kernelspec": {
   "display_name": "Python 3",
   "language": "python",
   "name": "python3"
  },
  "language_info": {
   "codemirror_mode": {
    "name": "ipython",
    "version": 3
   },
   "file_extension": ".py",
   "mimetype": "text/x-python",
   "name": "python",
   "nbconvert_exporter": "python",
   "pygments_lexer": "ipython3",
   "version": "3.6.1"
  }
 },
 "nbformat": 4,
 "nbformat_minor": 2
}
